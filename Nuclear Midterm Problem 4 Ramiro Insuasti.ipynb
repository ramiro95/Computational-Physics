{
 "cells": [
  {
   "cell_type": "markdown",
   "metadata": {},
   "source": [
    "## Calculating all variables needed to calculate mean-life (Tau) for 228-Th and half-life"
   ]
  },
  {
   "cell_type": "code",
   "execution_count": 24,
   "metadata": {},
   "outputs": [],
   "source": [
    "import numpy as np\n",
    "import math"
   ]
  },
  {
   "cell_type": "code",
   "execution_count": 25,
   "metadata": {},
   "outputs": [
    {
     "data": {
      "text/plain": [
       "8.426636895291477"
      ]
     },
     "execution_count": 25,
     "metadata": {},
     "output_type": "execute_result"
    }
   ],
   "source": [
    "# Calculating r_s \n",
    "\n",
    "r_s = 1.1 * ((224**(1/3)) + (4**(1/3)))\n",
    "r_s  # in fermis (fm)"
   ]
  },
  {
   "cell_type": "code",
   "execution_count": 26,
   "metadata": {},
   "outputs": [
    {
     "data": {
      "text/plain": [
       "5.519999999999996"
      ]
     },
     "execution_count": 26,
     "metadata": {},
     "output_type": "execute_result"
    }
   ],
   "source": [
    "#Calculating Q\n",
    "\n",
    "a = (26.766) # mass for 228-Th from nuclear wallet card in MeV\n",
    "b = (18.821) # mass for 224-Ra from nuclear wallet card in MeV\n",
    "c = (2.425) # mass for alpha particle in MeV\n",
    "\n",
    "Q = (a)-(b+c) #Total Q in MeV\n",
    "Q\n"
   ]
  },
  {
   "cell_type": "code",
   "execution_count": 27,
   "metadata": {},
   "outputs": [
    {
     "data": {
      "text/plain": [
       "45.91176811594206"
      ]
     },
     "execution_count": 27,
     "metadata": {},
     "output_type": "execute_result"
    }
   ],
   "source": [
    "# Having calulcated our Q, we can now calculate r_c from the given equation\n",
    "\n",
    "d = 88                            ### d is equal to Z for daughter nucleus, in this case Ra\n",
    "# Q = (2*d*1.43996)/ r_c          ### where 1.43996 is the constant for (e^2)/4(pi)(epsilon_0) given in MeV in front of book\n",
    "\n",
    "## plugging in values into equation and solving for r_c, we get:\n",
    "\n",
    "r_c = (2*d*1.43996)/(Q)\n",
    "r_c # in fermis (fm)"
   ]
  },
  {
   "cell_type": "code",
   "execution_count": 31,
   "metadata": {},
   "outputs": [
    {
     "data": {
      "text/plain": [
       "0.6360478727184458"
      ]
     },
     "execution_count": 31,
     "metadata": {},
     "output_type": "execute_result"
    }
   ],
   "source": [
    "# Having found both r_s and r_c, we can now calculate fancy G given in book, which I will denote as just 'g'\n",
    "\n",
    "# g(r_s/r_c) = (2/pi)[arccos(r_s/r_c)^1/2  - ((r_s/r_c)*(1-r_s/r_c))^1/2  ]\n",
    "\n",
    "\n",
    "g = (2/np.pi)*((math.acos(r_s/r_c))-(((r_s/r_c)*(1-(r_s/r_c)))**.5))\n",
    "\n",
    "g  # this value should be unitless"
   ]
  },
  {
   "cell_type": "code",
   "execution_count": 34,
   "metadata": {},
   "outputs": [
    {
     "data": {
      "text/plain": [
       "0.015920744011664868"
      ]
     },
     "execution_count": 34,
     "metadata": {},
     "output_type": "execute_result"
    }
   ],
   "source": [
    "## Now we can find G by plugging everything back in\n",
    "\n",
    "## But first, I will do some constant calculations so i can just plug in the respective values into the equation\n",
    "\n",
    "constant_one = (np.pi)/(197.327)   ## calculated (pi)/(h-bar * c ) here in MeV\n",
    "\n",
    "constant_one\n",
    "\n"
   ]
  },
  {
   "cell_type": "code",
   "execution_count": 58,
   "metadata": {},
   "outputs": [],
   "source": [
    "constant_two = 36.45076474  ## calculated sqrt[2mc^2/Q]"
   ]
  },
  {
   "cell_type": "code",
   "execution_count": 59,
   "metadata": {},
   "outputs": [
    {
     "data": {
      "text/plain": [
       "102.14077864863775"
      ]
     },
     "execution_count": 59,
     "metadata": {},
     "output_type": "execute_result"
    }
   ],
   "source": [
    "# Calculating G\n",
    "\n",
    "G = constant_one * (253.43296) * constant_two * g  ## plugging everything in\n",
    "\n",
    "G #this value is unitless"
   ]
  },
  {
   "cell_type": "code",
   "execution_count": 60,
   "metadata": {},
   "outputs": [
    {
     "data": {
      "text/plain": [
       "1.6005696753359888e+22"
      ]
     },
     "execution_count": 60,
     "metadata": {},
     "output_type": "execute_result"
    }
   ],
   "source": [
    "## Now we calculate the mean life by using equation:   tau = tau_0 * e^ G   where i will denote tau as 't'\n",
    "\n",
    "t = (7.0 * 10**-23) * np.exp(G)   ### where tau_0 is equal to value given in book\n",
    "\n",
    "t  # in seconds"
   ]
  },
  {
   "cell_type": "code",
   "execution_count": 61,
   "metadata": {},
   "outputs": [
    {
     "data": {
      "text/plain": [
       "1.1094303577489753e+22"
      ]
     },
     "execution_count": 61,
     "metadata": {},
     "output_type": "execute_result"
    }
   ],
   "source": [
    "## we calculate half-life from relationship of : t(1/2) = mean life * ln(2)\n",
    "\n",
    "t_half_life = t * 0.69314718056\n",
    "\n",
    "t_half_life"
   ]
  },
  {
   "cell_type": "markdown",
   "metadata": {},
   "source": [
    "## Calculating all variables needed to calculate mean-life (Tau) for 228-Th and half-life"
   ]
  },
  {
   "cell_type": "code",
   "execution_count": 39,
   "metadata": {},
   "outputs": [
    {
     "data": {
      "text/plain": [
       "8.466167375883586"
      ]
     },
     "execution_count": 39,
     "metadata": {},
     "output_type": "execute_result"
    }
   ],
   "source": [
    "# Calculating r_s \n",
    "\n",
    "r_s = 1.1 * ((228**(1/3)) + (4**(1/3)))\n",
    "r_s  # in fermis (fm)"
   ]
  },
  {
   "cell_type": "code",
   "execution_count": 40,
   "metadata": {},
   "outputs": [
    {
     "data": {
      "text/plain": [
       "4.080999999999996"
      ]
     },
     "execution_count": 40,
     "metadata": {},
     "output_type": "execute_result"
    }
   ],
   "source": [
    "#Calculating Q\n",
    "\n",
    "a = (35.452) # mass for 232-Th from nuclear wallet card in MeV\n",
    "b = (28.946) # mass for 224-Ra from nuclear wallet card in MeV\n",
    "c = (2.425) # mass for alpha particle in MeV\n",
    "\n",
    "Q = (a)-(b+c) #Total Q in MeV\n",
    "Q\n"
   ]
  },
  {
   "cell_type": "code",
   "execution_count": 41,
   "metadata": {},
   "outputs": [
    {
     "data": {
      "text/plain": [
       "62.10070080862539"
      ]
     },
     "execution_count": 41,
     "metadata": {},
     "output_type": "execute_result"
    }
   ],
   "source": [
    "# Having calulcated our Q, we can now calculate r_c from the given equation\n",
    "\n",
    "d = 88                            ### d is equal to Z for daughter nucleus, in this case Ra\n",
    "# Q = (2*d*1.43996)/ r_c          ### where 1.43996 is the constant for (e^2)/4(pi)(epsilon_0) given in MeV in front of book\n",
    "\n",
    "## plugging in values into equation and solving for r_c, we get:\n",
    "\n",
    "r_c = (2*d*1.43996)/(Q)\n",
    "r_c # in fermis (fm)"
   ]
  },
  {
   "cell_type": "code",
   "execution_count": 42,
   "metadata": {},
   "outputs": [
    {
     "data": {
      "text/plain": [
       "0.694490108559377"
      ]
     },
     "execution_count": 42,
     "metadata": {},
     "output_type": "execute_result"
    }
   ],
   "source": [
    "# Having found both r_s and r_c, we can now calculate fancy G given in book, which I will denote as just 'g'\n",
    "\n",
    "# g(r_s/r_c) = (2/pi)[arccos(r_s/r_c)^1/2  - ((r_s/r_c)*(1-r_s/r_c))^1/2  ]\n",
    "\n",
    "\n",
    "g = (2/np.pi)*((math.acos(r_s/r_c))-(((r_s/r_c)*(1-(r_s/r_c)))**.5))\n",
    "\n",
    "g  # this value should be unitless"
   ]
  },
  {
   "cell_type": "code",
   "execution_count": 43,
   "metadata": {},
   "outputs": [
    {
     "data": {
      "text/plain": [
       "0.015920744011664868"
      ]
     },
     "execution_count": 43,
     "metadata": {},
     "output_type": "execute_result"
    }
   ],
   "source": [
    "## Now we can find G by plugging everything back in\n",
    "\n",
    "## But first, I will do some constant calculations so i can just plug in the respective values into the equation\n",
    "\n",
    "constant_one = (np.pi)/(197.327)   ## calculated (pi)/(h-bar * c ) here in MeV\n",
    "\n",
    "constant_one"
   ]
  },
  {
   "cell_type": "code",
   "execution_count": 46,
   "metadata": {},
   "outputs": [],
   "source": [
    "constant_two = 42.39287651   ## calculated sqrt[2mc^2/Q]"
   ]
  },
  {
   "cell_type": "code",
   "execution_count": 47,
   "metadata": {},
   "outputs": [
    {
     "data": {
      "text/plain": [
       "118.79151087152047"
      ]
     },
     "execution_count": 47,
     "metadata": {},
     "output_type": "execute_result"
    }
   ],
   "source": [
    "# Calculating G\n",
    "\n",
    "G = constant_one * (253.43296) * constant_two * g    ## plugging everything in\n",
    "\n",
    "G #this value is unitless"
   ]
  },
  {
   "cell_type": "code",
   "execution_count": 48,
   "metadata": {},
   "outputs": [
    {
     "data": {
      "text/plain": [
       "2.726438516758893e+29"
      ]
     },
     "execution_count": 48,
     "metadata": {},
     "output_type": "execute_result"
    }
   ],
   "source": [
    "## Now we calculate the mean life by using equation:   tau = tau_0 * e^ G   where i will denote tau as 't'\n",
    "\n",
    "t = (7.0 * 10**-23) * np.exp(G)   ### where tau_0 is equal to value given in book\n",
    "\n",
    "t  # in seconds"
   ]
  },
  {
   "cell_type": "code",
   "execution_count": 49,
   "metadata": {},
   "outputs": [
    {
     "data": {
      "text/plain": [
       "1.889823170861615e+29"
      ]
     },
     "execution_count": 49,
     "metadata": {},
     "output_type": "execute_result"
    }
   ],
   "source": [
    "## we calculate half-life from relationship of : t(1/2) = mean life * ln(2)\n",
    "\n",
    "t_half_life = t * 0.69314718056\n",
    "\n",
    "t_half_life"
   ]
  },
  {
   "cell_type": "markdown",
   "metadata": {},
   "source": [
    "In conclusion, the experimental values were way off to the theoretical values. \n",
    "Mean-life and half-life for 228-Th was given in seconds but converted into years, answer is 507537314604258.25 and 351798058646935.3125 , respectively.\n",
    "\n",
    "Likewise for 232-Th, mean and half lives were 8.64547982229481456e+21 and 5.99258996341202118e+21 , respectively. \n",
    "\n",
    "I'm assuming i used the incorrect value for tau_not."
   ]
  }
 ],
 "metadata": {
  "kernelspec": {
   "display_name": "Python 3",
   "language": "python",
   "name": "python3"
  },
  "language_info": {
   "codemirror_mode": {
    "name": "ipython",
    "version": 3
   },
   "file_extension": ".py",
   "mimetype": "text/x-python",
   "name": "python",
   "nbconvert_exporter": "python",
   "pygments_lexer": "ipython3",
   "version": "3.7.1"
  }
 },
 "nbformat": 4,
 "nbformat_minor": 2
}
